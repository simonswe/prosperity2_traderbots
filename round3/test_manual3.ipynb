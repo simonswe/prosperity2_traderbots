{
 "cells": [
  {
   "cell_type": "code",
   "execution_count": 1,
   "metadata": {},
   "outputs": [],
   "source": [
    "import numpy as np"
   ]
  },
  {
   "cell_type": "markdown",
   "metadata": {},
   "source": [
    "Building treasure map data structure"
   ]
  },
  {
   "cell_type": "code",
   "execution_count": 2,
   "metadata": {},
   "outputs": [],
   "source": [
    "# build the treasure matrix, the first element is the multiplier, the second is the amount of hunters\n",
    "\n",
    "row0 = [\n",
    "    [24, 2],\n",
    "    [70, 4],\n",
    "    [41, 3],\n",
    "    [21, 2],\n",
    "    [60, 4]\n",
    "]\n",
    "\n",
    "row1 = [\n",
    "    [47, 3],\n",
    "    [82, 5],\n",
    "    [87, 5],\n",
    "    [80, 5],\n",
    "    [35, 4]\n",
    "]\n",
    "\n",
    "row2 = [\n",
    "    [73, 4],\n",
    "    [89, 5],\n",
    "    [100, 8],\n",
    "    [90, 7],\n",
    "    [17, 2]\n",
    "]\n",
    "\n",
    "row3 = [\n",
    "    [77, 5],\n",
    "    [83, 5],\n",
    "    [85, 5],\n",
    "    [79, 5],\n",
    "    [55, 4]\n",
    "]\n",
    "\n",
    "row4 = [\n",
    "    [12, 2],\n",
    "    [27, 3],\n",
    "    [52, 4],\n",
    "    [15, 2],\n",
    "    [30, 3]\n",
    "]"
   ]
  },
  {
   "cell_type": "code",
   "execution_count": 3,
   "metadata": {},
   "outputs": [],
   "source": [
    "treasures = np.array([row0, row1, row2, row3, row4])"
   ]
  },
  {
   "cell_type": "code",
   "execution_count": 4,
   "metadata": {},
   "outputs": [
    {
     "data": {
      "text/plain": [
       "(5, 5, 2)"
      ]
     },
     "execution_count": 4,
     "metadata": {},
     "output_type": "execute_result"
    }
   ],
   "source": [
    "treasures.shape"
   ]
  },
  {
   "cell_type": "code",
   "execution_count": 5,
   "metadata": {},
   "outputs": [],
   "source": [
    "# the value of one treasure is 7500\n",
    "multiplier_value = 7500\n",
    "\n",
    "# cost of choosing to get the jth treasure, with a max of 3 treasures per player\n",
    "costs = np.array([0, 25_000, 75_000])"
   ]
  },
  {
   "cell_type": "code",
   "execution_count": 6,
   "metadata": {},
   "outputs": [
    {
     "data": {
      "text/plain": [
       "array([[ True,  True,  True,  True,  True],\n",
       "       [ True,  True,  True,  True, False],\n",
       "       [ True,  True,  True,  True, False],\n",
       "       [ True,  True,  True,  True,  True],\n",
       "       [False, False,  True, False, False]])"
      ]
     },
     "execution_count": 6,
     "metadata": {},
     "output_type": "execute_result"
    }
   ],
   "source": [
    "# just checking how many treasures can possibly be the third treasure\n",
    "treasures[:,:,0] * multiplier_value / (treasures[:,:,1]) > 75_000"
   ]
  },
  {
   "cell_type": "code",
   "execution_count": null,
   "metadata": {},
   "outputs": [],
   "source": []
  },
  {
   "cell_type": "markdown",
   "metadata": {},
   "source": [
    "creating players"
   ]
  },
  {
   "cell_type": "code",
   "execution_count": 7,
   "metadata": {},
   "outputs": [],
   "source": [
    "# # pd = player distribution\n",
    "\n",
    "# # adds the final step at the end to make it easy to sum to 100, therefore will always have 1 more\n",
    "# # element than the number of steps input\n",
    "\n",
    "# # the ith element of the list is the percentage of people in the ith step of logic\n",
    "# # example: pd = [25, 50, 25] means 25% of people are in step 0, 50% in step 1, and 25% in step 2\n",
    "# pd = [30, 30, 20, 10, 15]\n",
    "\n",
    "# pd.append(100 - sum(pd))\n",
    "# if pd[-1] < 0:\n",
    "#     raise ValueError(\"Sum of pd is greater than 100\")"
   ]
  },
  {
   "cell_type": "code",
   "execution_count": 8,
   "metadata": {},
   "outputs": [],
   "source": [
    "np.set_printoptions(precision=2)\n",
    "\n",
    "# define util function to nicely print the array\n",
    "def print_array(array):\n",
    "    for row in array:\n",
    "        print(row)"
   ]
  },
  {
   "cell_type": "code",
   "execution_count": 9,
   "metadata": {},
   "outputs": [],
   "source": [
    "def choose_treasure(expected_values):\n",
    "    # find the best 3 treasures to choose\n",
    "    evs = expected_values.reshape(-1)\n",
    "    top3 = np.argsort(evs)[-3:][::-1] # reverse order of the top 3 values\n",
    "    top3_values = evs[top3]\n",
    "    choices = []\n",
    "    for i in range(3):\n",
    "        if top3_values[i] - costs[i] > 0:\n",
    "            choices.append(top3[i])\n",
    "    return choices"
   ]
  },
  {
   "cell_type": "code",
   "execution_count": 10,
   "metadata": {},
   "outputs": [
    {
     "name": "stdout",
     "output_type": "stream",
     "text": [
      "[30000.   65625.   43928.57 26250.   56250.  ]\n",
      "[50357.14 68333.33 72500.   66666.67 32812.5 ]\n",
      "[68437.5  74166.67 62500.   61363.64 21250.  ]\n",
      "[64166.67 69166.67 70833.33 65833.33 51562.5 ]\n",
      "[15000.   28928.57 48750.   18750.   32142.86]\n"
     ]
    }
   ],
   "source": [
    "# get the expected value of all the treasures in the map given the player's assumption of everyone's choices\n",
    "def get_evs(treasures, assumed_choices):\n",
    "    # treasures and choices are 5x5 matrices\n",
    "    island_values =  treasures[:,:,0] * multiplier_value\n",
    "    number_of_hunters = treasures[:,:,1] + assumed_choices\n",
    "    evs = island_values / number_of_hunters\n",
    "    return evs\n",
    "\n",
    "random_choices = np.ones((5,5)) * 4\n",
    "evs = get_evs(treasures, random_choices)\n",
    "print_array(evs)"
   ]
  },
  {
   "cell_type": "code",
   "execution_count": 11,
   "metadata": {},
   "outputs": [
    {
     "name": "stdout",
     "output_type": "stream",
     "text": [
      "11\n",
      "7\n"
     ]
    }
   ],
   "source": [
    "print_array(choose_treasure(evs))"
   ]
  },
  {
   "cell_type": "code",
   "execution_count": 12,
   "metadata": {},
   "outputs": [],
   "source": [
    "# not right maybe idk\n",
    "def get_next_choices(treasures, assumed_choices):\n",
    "    evs = get_evs(treasures, assumed_choices)\n",
    "    choices = choose_treasure(evs) # ?\n",
    "    new_choices = 100 * evs / evs.sum()\n",
    "    return new_choices\n",
    "    "
   ]
  },
  {
   "cell_type": "code",
   "execution_count": 13,
   "metadata": {},
   "outputs": [
    {
     "name": "stdout",
     "output_type": "stream",
     "text": [
      "[30000.   65625.   43928.57 26250.   56250.  ]\n",
      "[50357.14 68333.33 72500.   66666.67 32812.5 ]\n",
      "[68437.5  74166.67 62500.   61363.64 21250.  ]\n",
      "[64166.67 69166.67 70833.33 65833.33 51562.5 ]\n",
      "[15000.   28928.57 48750.   18750.   32142.86]\n"
     ]
    }
   ],
   "source": [
    "choices = np.ones((5,5)) * 4\n",
    "print_array(treasures[:,:,0] * multiplier_value / (treasures[:,:,1] + choices))"
   ]
  },
  {
   "cell_type": "code",
   "execution_count": 57,
   "metadata": {},
   "outputs": [],
   "source": [
    "choices = np.ones((5,5)) * 4\n",
    "\n",
    "for i in range(100):\n",
    "    choices = get_next_choices(treasures, choices)"
   ]
  },
  {
   "cell_type": "code",
   "execution_count": 58,
   "metadata": {},
   "outputs": [
    {
     "name": "stdout",
     "output_type": "stream",
     "text": [
      "[2.93 4.8  3.69 2.7  4.34]\n",
      "[4.03 4.96 5.16 4.88 3.01]\n",
      "[4.93 5.24 4.73 4.66 2.35]\n",
      "[4.76 5.   5.08 4.84 4.1 ]\n",
      "[1.87 2.8  3.95 2.17 3.01]\n"
     ]
    }
   ],
   "source": [
    "print_array(choices)"
   ]
  },
  {
   "cell_type": "code",
   "execution_count": 59,
   "metadata": {},
   "outputs": [
    {
     "name": "stdout",
     "output_type": "stream",
     "text": [
      "[[36486.78 59675.8  45941.08 33537.7  53966.33]\n",
      " [50137.25 61730.25 64209.64 60719.75 37444.83]\n",
      " [61314.92 65183.51 58894.2  57911.56 29282.58]\n",
      " [59182.8  62231.4  63225.7  60210.31 50950.56]\n",
      " [23257.39 34886.08 49082.09 26983.17 37438.71]]\n",
      "[11, 7]\n"
     ]
    }
   ],
   "source": [
    "final_evs = get_evs(treasures, choices)\n",
    "final_choices = choose_treasure(final_evs)\n",
    "print(final_evs)\n",
    "print(final_choices)\n"
   ]
  },
  {
   "cell_type": "markdown",
   "metadata": {},
   "source": [
    "# playing around with assumed distributions"
   ]
  },
  {
   "cell_type": "code",
   "execution_count": 88,
   "metadata": {},
   "outputs": [
    {
     "name": "stdout",
     "output_type": "stream",
     "text": [
      "[ 90000.   131250.   102500.    78750.   112500.   117500.   123000.\n",
      " 130500.   120000.    65625.   136875.   133500.    93750.    96428.57\n",
      "  63750.   115500.   124500.   127500.   118500.   103125.    45000.\n",
      "  67500.    97500.    56250.    75000.  ]\n",
      "(19,)\n",
      "[ 65625.    67500.    75000.    78750.    90000.    93750.    96428.57\n",
      "  97500.   102500.   103125.   112500.   115500.   117500.   118500.\n",
      " 120000.   123000.   124500.   127500.   130500.  ]\n"
     ]
    }
   ],
   "source": [
    "flat_scores = (treasures[:,:,0] * multiplier_value / treasures[:,:,1]).flatten()\n",
    "ids = np.argsort(flat_scores)\n",
    "print(flat_scores)\n",
    "\n",
    "middle = flat_scores[ids[3:-3]] # middle 19 values\n",
    "print(middle.shape)\n",
    "print(middle)"
   ]
  },
  {
   "cell_type": "code",
   "execution_count": 79,
   "metadata": {},
   "outputs": [],
   "source": [
    "greedy3 = 10 * np.ones((3,))\n",
    "\n",
    "agreedy3 = (20/3) * np.ones((3,)) # anti greedy 3"
   ]
  },
  {
   "cell_type": "code",
   "execution_count": 85,
   "metadata": {},
   "outputs": [],
   "source": [
    "greedy3 = np.array([10, 10, 10])\n",
    "\n",
    "agreedy3 = np.array([10/3, 10/3, 10/3]) # anti greedy 3"
   ]
  },
  {
   "cell_type": "code",
   "execution_count": 86,
   "metadata": {},
   "outputs": [
    {
     "name": "stdout",
     "output_type": "stream",
     "text": [
      "[2.01 2.07 2.3  2.41 2.76 2.87 2.95 2.99 3.14 3.16 3.44 3.54 3.6  3.63\n",
      " 3.67 3.77 3.81 3.9  4.  ]\n"
     ]
    }
   ],
   "source": [
    "scores = 100 * middle / middle.sum() # get percentage value of each score\n",
    "scores = scores * ((100 - greedy3.sum() - agreedy3.sum()) / 100)\n",
    "print(scores)\n"
   ]
  },
  {
   "cell_type": "code",
   "execution_count": 89,
   "metadata": {},
   "outputs": [
    {
     "name": "stdout",
     "output_type": "stream",
     "text": [
      "[[ 2.76 10.    3.14  2.41  3.44]\n",
      " [ 3.6   3.77  4.    3.67  2.01]\n",
      " [10.   10.    2.87  2.95  3.33]\n",
      " [ 3.54  3.81  3.9   3.63  3.16]\n",
      " [ 3.33  2.07  2.99  3.33  2.3 ]]\n"
     ]
    }
   ],
   "source": [
    "my_assumption = np.ones((25))\n",
    "my_assumption[ids[:3]] = agreedy3\n",
    "my_assumption[ids[-3:]] = greedy3\n",
    "my_assumption[ids[3:-3]] = scores\n",
    "my_assumption = my_assumption.reshape((5,5))\n",
    "print(my_assumption)"
   ]
  },
  {
   "cell_type": "code",
   "execution_count": 90,
   "metadata": {},
   "outputs": [
    {
     "name": "stdout",
     "output_type": "stream",
     "text": [
      "100.0\n"
     ]
    }
   ],
   "source": [
    "print(my_assumption.sum())"
   ]
  },
  {
   "cell_type": "code",
   "execution_count": 91,
   "metadata": {},
   "outputs": [
    {
     "name": "stdout",
     "output_type": "stream",
     "text": [
      "[37850.48 37500.   50095.55 35705.3  60447.78]\n",
      "[53429.1  70158.04 72535.84 69171.67 43682.6 ]\n",
      "[39107.14 44500.   68994.9  67822.98 23906.25]\n",
      "[67652.31 70643.51 71599.44 68670.6  57632.62]\n",
      "[16875.   39967.11 55832.46 21093.75 42482.53]\n",
      "7\n",
      "17\n"
     ]
    }
   ],
   "source": [
    "evs = get_evs(treasures, my_assumption)\n",
    "print_array(evs)\n",
    "print_array(choose_treasure(evs))"
   ]
  }
 ],
 "metadata": {
  "kernelspec": {
   "display_name": "ml-imc",
   "language": "python",
   "name": "python3"
  },
  "language_info": {
   "codemirror_mode": {
    "name": "ipython",
    "version": 3
   },
   "file_extension": ".py",
   "mimetype": "text/x-python",
   "name": "python",
   "nbconvert_exporter": "python",
   "pygments_lexer": "ipython3",
   "version": "3.10.14"
  }
 },
 "nbformat": 4,
 "nbformat_minor": 2
}
