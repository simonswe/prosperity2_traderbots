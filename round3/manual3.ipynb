{
 "cells": [
  {
   "cell_type": "code",
   "execution_count": 1,
   "metadata": {},
   "outputs": [],
   "source": [
    "import math\n",
    "import numpy as np"
   ]
  },
  {
   "cell_type": "code",
   "execution_count": 21,
   "metadata": {},
   "outputs": [
    {
     "name": "stdout",
     "output_type": "stream",
     "text": [
      "260000\n",
      "[ 90000. 131250. 102500.  78750. 112500.]\n",
      "[117500. 123000. 130500. 120000.  87500.]\n",
      "[136875.   133500.    93750.    96428.57  63750.  ]\n",
      "[115500. 124500. 127500. 118500. 103125.]\n",
      "[45000. 67500. 97500. 56250. 75000.]\n"
     ]
    }
   ],
   "source": [
    "profit = np.array([[24, 70, 41, 21, 60], [47, 82, 87, 80, 35], [73, 89, 100, 90, 17], [77, 83, 85, 79, 55], [12, 27, 52, 15, 30]], dtype=np.float32)\n",
    "profit *= 7500\n",
    "\n",
    "hunters = np.array([[2, 4, 3, 2, 4], [3, 5, 5, 5, 3], [4, 5, 8, 7, 2], [5, 5, 5, 5, 4], [2, 3, 4, 2, 3]], dtype=np.float32)\n",
    "players = np.array([[0, 100/4, 0, 0, 0], [0, 0, 100/4, 0, 0], [100/4, 100/4, 0, 0, 0], [0, 0, 0, 0, 0], [0, 0, 0, 0, 0],], dtype=np.float32)\n",
    "\n",
    "\n",
    "profit /= (hunters)\n",
    "\n",
    "print(120000 * 3 - 100000)\n",
    "\n",
    "for row in profit:\n",
    "    print(row)"
   ]
  },
  {
   "cell_type": "code",
   "execution_count": null,
   "metadata": {},
   "outputs": [],
   "source": []
  },
  {
   "cell_type": "code",
   "execution_count": null,
   "metadata": {},
   "outputs": [],
   "source": []
  },
  {
   "cell_type": "code",
   "execution_count": null,
   "metadata": {},
   "outputs": [],
   "source": []
  }
 ],
 "metadata": {
  "kernelspec": {
   "display_name": "Python 3",
   "language": "python",
   "name": "python3"
  },
  "language_info": {
   "codemirror_mode": {
    "name": "ipython",
    "version": 3
   },
   "file_extension": ".py",
   "mimetype": "text/x-python",
   "name": "python",
   "nbconvert_exporter": "python",
   "pygments_lexer": "ipython3",
   "version": "3.11.8"
  }
 },
 "nbformat": 4,
 "nbformat_minor": 2
}
