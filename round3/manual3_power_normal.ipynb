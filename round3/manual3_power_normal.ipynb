{
 "cells": [
  {
   "cell_type": "code",
   "execution_count": 7,
   "metadata": {},
   "outputs": [],
   "source": [
    "import numpy as np\n",
    "np.set_printoptions(precision=2)"
   ]
  },
  {
   "cell_type": "markdown",
   "metadata": {},
   "source": [
    "Building treasure map data structure"
   ]
  },
  {
   "cell_type": "code",
   "execution_count": 3,
   "metadata": {},
   "outputs": [],
   "source": [
    "# build the treasure matrix, the first element is the multiplier, the second is the amount of hunters\n",
    "\n",
    "row0 = [\n",
    "    [24, 2],\n",
    "    [70, 4],\n",
    "    [41, 3],\n",
    "    [21, 2],\n",
    "    [60, 4]\n",
    "]\n",
    "\n",
    "row1 = [\n",
    "    [47, 3],\n",
    "    [82, 5],\n",
    "    [87, 5],\n",
    "    [80, 5],\n",
    "    [35, 4]\n",
    "]\n",
    "\n",
    "row2 = [\n",
    "    [73, 4],\n",
    "    [89, 5],\n",
    "    [100, 8],\n",
    "    [90, 7],\n",
    "    [17, 2]\n",
    "]\n",
    "\n",
    "row3 = [\n",
    "    [77, 5],\n",
    "    [83, 5],\n",
    "    [85, 5],\n",
    "    [79, 5],\n",
    "    [55, 4]\n",
    "]\n",
    "\n",
    "row4 = [\n",
    "    [12, 2],\n",
    "    [27, 3],\n",
    "    [52, 4],\n",
    "    [15, 2],\n",
    "    [30, 3]\n",
    "]\n",
    "\n",
    "treasures = np.array([row0, row1, row2, row3, row4])"
   ]
  },
  {
   "cell_type": "code",
   "execution_count": 5,
   "metadata": {},
   "outputs": [
    {
     "data": {
      "text/plain": [
       "array([[[ 24,   2],\n",
       "        [ 70,   4],\n",
       "        [ 41,   3],\n",
       "        [ 21,   2],\n",
       "        [ 60,   4]],\n",
       "\n",
       "       [[ 47,   3],\n",
       "        [ 82,   5],\n",
       "        [ 87,   5],\n",
       "        [ 80,   5],\n",
       "        [ 35,   4]],\n",
       "\n",
       "       [[ 73,   4],\n",
       "        [ 89,   5],\n",
       "        [100,   8],\n",
       "        [ 90,   7],\n",
       "        [ 17,   2]],\n",
       "\n",
       "       [[ 77,   5],\n",
       "        [ 83,   5],\n",
       "        [ 85,   5],\n",
       "        [ 79,   5],\n",
       "        [ 55,   4]],\n",
       "\n",
       "       [[ 12,   2],\n",
       "        [ 27,   3],\n",
       "        [ 52,   4],\n",
       "        [ 15,   2],\n",
       "        [ 30,   3]]])"
      ]
     },
     "execution_count": 5,
     "metadata": {},
     "output_type": "execute_result"
    }
   ],
   "source": [
    "treasures"
   ]
  },
  {
   "cell_type": "code",
   "execution_count": 4,
   "metadata": {},
   "outputs": [
    {
     "data": {
      "text/plain": [
       "(5, 5, 2)"
      ]
     },
     "execution_count": 4,
     "metadata": {},
     "output_type": "execute_result"
    }
   ],
   "source": [
    "treasures.shape"
   ]
  },
  {
   "cell_type": "code",
   "execution_count": 6,
   "metadata": {},
   "outputs": [],
   "source": [
    "# the value of one treasure is 7500\n",
    "multiplier_value = 7500\n",
    "\n",
    "# cost of choosing to get the jth treasure, with a max of 3 treasures per player\n",
    "costs = np.array([0, 25_000, 75_000])"
   ]
  },
  {
   "cell_type": "code",
   "execution_count": 8,
   "metadata": {},
   "outputs": [],
   "source": [
    "# get the expected value of all the treasures in the map given the player's assumption of everyone's choices\n",
    "def get_evs(treasures, assumed_choices):\n",
    "    # treasures and choices are 5x5 matrices\n",
    "    island_values =  treasures[:,:,0] * multiplier_value\n",
    "    number_of_hunters = treasures[:,:,1] + assumed_choices\n",
    "    evs = island_values / number_of_hunters\n",
    "    return evs"
   ]
  },
  {
   "cell_type": "code",
   "execution_count": 14,
   "metadata": {},
   "outputs": [
    {
     "name": "stdout",
     "output_type": "stream",
     "text": [
      "[4, 3]\n",
      "[5, 4]\n",
      "[6, 1]\n",
      "[6, 8, 1]\n"
     ]
    }
   ],
   "source": [
    "def choose_treasure(expected_values):\n",
    "    # find the best 3 treasures to choose\n",
    "    evs = expected_values.reshape(-1)\n",
    "    top3 = np.argsort(evs)[-3:][::-1] # reverse order of the top 3 values\n",
    "    top3_values = evs[top3]\n",
    "    choices = []\n",
    "    for i in range(3):\n",
    "        if top3_values[i] - costs[i] > 0:\n",
    "            choices.append(top3[i])\n",
    "    return choices\n",
    "\n",
    "evs = np.array([1,2,20_000, 50_000, 100_000])\n",
    "print(choose_treasure(evs))\n",
    "\n",
    "evs = evs = np.array([1,50_000, 2,20_000, 50_000, 100_000])\n",
    "print(choose_treasure(evs))\n",
    "\n",
    "evs = np.array([1, 75_001, 50_000, 2,20_000, 50_000, 100_000, 20_000])\n",
    "print(choose_treasure(evs))\n",
    "\n",
    "evs = np.array([1, 75_001, 50_000, 2, 20_000, 50_000, 100_000, 20_000, 75_001])\n",
    "print(choose_treasure(evs))"
   ]
  },
  {
   "cell_type": "code",
   "execution_count": 24,
   "metadata": {},
   "outputs": [
    {
     "name": "stdout",
     "output_type": "stream",
     "text": [
      "[ 90000.   131250.   102500.    78750.   112500.   117500.   123000.\n",
      " 130500.   120000.    65625.   136875.   133500.    93750.    96428.57\n",
      "  63750.   115500.   124500.   127500.   118500.   103125.    45000.\n",
      "  67500.    97500.    56250.    75000.  ]\n",
      "[20 23 14  9 21 24  3  0 12 13 22  2 19  4 15  5 18  8  6 16 17  7  1 11\n",
      " 10]\n"
     ]
    }
   ],
   "source": [
    "# scores are naive EVs based on treasure multiplier and number of hunters\n",
    "# we flatten to make it easy to work with and arg sort them\n",
    "flat_scores = (treasures[:,:,0] * multiplier_value / treasures[:,:,1]).flatten()\n",
    "ids = np.argsort(flat_scores)\n",
    "print(flat_scores)\n",
    "print(ids)"
   ]
  },
  {
   "cell_type": "code",
   "execution_count": 25,
   "metadata": {},
   "outputs": [
    {
     "name": "stdout",
     "output_type": "stream",
     "text": [
      "(14,)\n",
      "[ 65625.    67500.    75000.    78750.    90000.    93750.    96428.57\n",
      "  97500.   102500.   103125.   112500.   115500.   117500.   118500.  ]\n"
     ]
    }
   ],
   "source": [
    "middle = flat_scores[ids[3:-8]] # middle values\n",
    "print(middle.shape)\n",
    "print(middle)"
   ]
  },
  {
   "cell_type": "code",
   "execution_count": 27,
   "metadata": {},
   "outputs": [],
   "source": [
    "# doesn't matter what the distribution is within the greedy 8 and anti greedy 3 because we will not choose them anyways\n",
    "greedy8 = np.array([10,10,10,10,10,10,10,10]) * (60/80) # 60% of people choose top 8 islands\n",
    "\n",
    "agreedy3 = np.array([20/3, 20/3, 20/3]) # anti greedy 3, 20% of people choose lowest 3 islands"
   ]
  },
  {
   "cell_type": "code",
   "execution_count": 34,
   "metadata": {},
   "outputs": [
    {
     "name": "stdout",
     "output_type": "stream",
     "text": [
      "(14,)\n",
      "[0.98 1.01 1.12 1.18 1.35 1.41 1.45 1.46 1.54 1.55 1.69 1.73 1.76 1.78]\n",
      "[ 9 21 24  3  0 12 13 22  2 19  4 15  5 18]\n"
     ]
    }
   ],
   "source": [
    "ps = 100 * middle / middle.sum() # get percentage value of each score\n",
    "ps = ps * ((100 - greedy8.sum() - agreedy3.sum()) / 100)\n",
    "\n",
    "p_ids = ids[3:-8] # get the ids of the middle values\n",
    "\n",
    "print(ps.shape)\n",
    "print(ps)\n",
    "print(p_ids)"
   ]
  },
  {
   "cell_type": "code",
   "execution_count": 35,
   "metadata": {},
   "outputs": [
    {
     "name": "stdout",
     "output_type": "stream",
     "text": [
      "100.0\n"
     ]
    }
   ],
   "source": [
    "print(greedy8.sum() + agreedy3.sum() + ps.sum())"
   ]
  },
  {
   "cell_type": "code",
   "execution_count": 78,
   "metadata": {},
   "outputs": [
    {
     "name": "stdout",
     "output_type": "stream",
     "text": [
      "[[1.35 7.5  1.54 1.18 1.69]\n",
      " [1.76 7.5  7.5  7.5  0.98]\n",
      " [7.5  7.5  1.41 1.45 6.67]\n",
      " [1.73 7.5  7.5  1.78 1.55]\n",
      " [6.67 1.01 1.46 6.67 1.12]]\n"
     ]
    }
   ],
   "source": [
    "my_assumption = np.ones((25))\n",
    "my_assumption[ids[:3]] = agreedy3\n",
    "my_assumption[ids[-8:]] = greedy8\n",
    "my_assumption[ids[3:-8]] = ps\n",
    "my_assumption = my_assumption.reshape((5,5))\n",
    "print(my_assumption)"
   ]
  },
  {
   "cell_type": "code",
   "execution_count": 79,
   "metadata": {},
   "outputs": [
    {
     "name": "stdout",
     "output_type": "stream",
     "text": [
      "[[53745.06 45652.17 67783.15 49520.49 79135.75]\n",
      " [74033.11 49200.   52200.   48000.   52671.17]\n",
      " [47608.7  53400.   79741.77 79924.1  14711.54]\n",
      " [85791.93 49800.   51000.   87436.14 74379.34]\n",
      " [10384.62 50475.36 71407.99 12980.77 54554.88]]\n",
      "[18, 15, 13]\n"
     ]
    }
   ],
   "source": [
    "evs = get_evs(treasures, my_assumption)\n",
    "print(evs)\n",
    "choices = choose_treasure(evs)\n",
    "print(choices)"
   ]
  },
  {
   "cell_type": "code",
   "execution_count": 80,
   "metadata": {},
   "outputs": [
    {
     "name": "stdout",
     "output_type": "stream",
     "text": [
      "[10384.62 12980.77 14711.54 45652.17 47608.7  48000.   49200.   49520.49\n",
      " 49800.   50475.36 51000.   52200.   52671.17 53400.   53745.06 54554.88\n",
      " 67783.15 71407.99 74033.11 74379.34 79135.75 79741.77 79924.1  85791.93\n",
      " 87436.14]\n"
     ]
    }
   ],
   "source": [
    "sorted_evs = np.sort(evs.flatten())\n",
    "print(sorted_evs)"
   ]
  },
  {
   "cell_type": "markdown",
   "metadata": {},
   "source": [
    "# This is all power/normal hybrid which doesn't make sense now so ignore it :("
   ]
  },
  {
   "cell_type": "code",
   "execution_count": 77,
   "metadata": {},
   "outputs": [
    {
     "name": "stdout",
     "output_type": "stream",
     "text": [
      "[0.1  0.   0.11 0.06 0.06 0.1  0.   0.   0.   0.03 0.   0.   0.05 0.07\n",
      " 0.   0.06 0.   0.   0.06 0.11 0.   0.08 0.09 0.   0.02]\n",
      "25\n"
     ]
    }
   ],
   "source": [
    "# sample from ps to get the distribution of the middle 14 islands\n",
    "samples = []\n",
    "for i in range(100):\n",
    "    sample = np.random.choice(p_ids, 100, p=ps/ps.sum()).copy()\n",
    "    counts = np.bincount(sample)/sample.size\n",
    "    samples.append(counts)\n",
    "samples = np.array(samples)\n",
    "print(samples[0])\n",
    "print(samples[0].__len__())"
   ]
  },
  {
   "cell_type": "code",
   "execution_count": 76,
   "metadata": {},
   "outputs": [
    {
     "name": "stdout",
     "output_type": "stream",
     "text": [
      "[0.07 0.   0.08 0.06 0.08 0.09 0.   0.   0.   0.05 0.   0.   0.07 0.07\n",
      " 0.   0.09 0.   0.   0.09 0.08 0.   0.05 0.07 0.   0.06]\n",
      "[0.01 0.   0.01 0.01 0.01 0.01 0.   0.   0.   0.01 0.   0.   0.01 0.01\n",
      " 0.   0.01 0.   0.   0.01 0.01 0.   0.01 0.01 0.   0.01]\n"
     ]
    }
   ],
   "source": [
    "means = samples.mean(axis=0)\n",
    "stds = samples.std(axis=0)\n",
    "print(means)\n",
    "print(stds)"
   ]
  },
  {
   "cell_type": "code",
   "execution_count": 57,
   "metadata": {},
   "outputs": [
    {
     "name": "stdout",
     "output_type": "stream",
     "text": [
      "[16438.85 16657.59 16733.4  16667.98 16383.79 16568.35 16440.85 16750.55\n",
      " 16537.65 16560.04 16572.43 16449.64 16514.09 16466.22 16567.12 16507.34\n",
      " 16507.68 16415.84 16387.44 16702.26 16568.85 16675.95 16506.46 16629.75\n",
      " 16476.99 16631.91 16705.95 16725.92 16582.66 16581.57 16512.31 16662.05\n",
      " 16630.68 16497.7  16614.74 16500.8  16471.81 16602.63 16592.25 16576.22\n",
      " 16597.76 16555.76 16574.98 16542.57 16476.56 16679.86 16556.48 16691.07\n",
      " 16518.19 16810.19 16555.95 16498.74 16533.86 16548.83 16475.28 16467.31\n",
      " 16432.81 16465.05 16665.62 16457.28 16503.4  16630.17 16653.82 16510.83\n",
      " 16591.81 16563.06 16533.79 16471.04 16595.39 16523.34 16738.91 16497.98\n",
      " 16477.7  16512.31 16602.24 16542.37 16509.77 16577.3  16520.92 16631.87\n",
      " 16486.94 16557.3  16517.04 16727.51 16518.01 16437.86 16519.79 16694.57\n",
      " 16500.02 16449.2  16639.86 16578.08 16691.33 16723.52 16698.   16697.81\n",
      " 16535.28 16809.78 16453.45 16405.32 16689.   16616.25 16477.92 16527.2\n",
      " 16451.5  16641.75 16623.86 16592.35 16534.26 16635.47 16492.57 16652.47\n",
      " 16484.31 16495.44 16485.54 16531.95 16536.93 16424.52 16674.35 16486.28\n",
      " 16503.39 16489.56 16687.39 16689.54 16541.75 16560.22 16519.4  16450.23\n",
      " 16636.47 16464.28 16628.44 16470.94 16525.21 16523.14 16548.98 16499.71\n",
      " 16635.49 16570.64 16659.99 16470.65 16528.43 16704.1  16676.09 16717.36\n",
      " 16484.01 16507.92 16442.91 16529.14 16608.49 16416.18 16513.62 16654.82\n",
      " 16527.48 16376.31 16587.77 16618.29 16421.49 16474.51 16481.05 16619.67\n",
      " 16404.88 16707.65 16443.62 16622.3  16478.39 16476.91 16614.77 16553.33\n",
      " 16517.18 16614.34 16517.07 16557.62 16580.08 16409.59 16585.25 16629.05\n",
      " 16479.75 16600.58 16643.36 16426.93 16531.27 16479.18 16505.99 16682.11\n",
      " 16650.12 16572.2  16410.68 16617.24 16518.82 16591.01 16679.19 16623.86\n",
      " 16593.81 16609.35 16605.82 16531.95 16484.24 16518.38 16407.16 16638.79\n",
      " 16625.14 16453.08 16591.62 16555.73 16497.96 16631.78 16537.13 16610.64\n",
      " 16559.97 16496.46 16534.73 16692.06 16652.45 16644.82 16600.19 16562.07\n",
      " 16545.67 16614.49 16571.63 16620.37 16663.7  16594.38 16584.7  16633.09\n",
      " 16493.57 16579.49 16602.22 16660.36 16623.83 16602.49 16490.02 16431.61\n",
      " 16631.14 16533.18 16498.28 16474.7  16644.2  16463.54 16468.25 16564.66\n",
      " 16469.62 16529.71 16675.04 16481.58 16617.29 16585.33 16553.13 16523.11\n",
      " 16677.89 16533.02 16367.17 16553.65 16561.56 16473.83 16659.43 16417.73\n",
      " 16653.32 16381.02 16525.5  16493.11 16585.16 16509.03 16626.59 16685.58\n",
      " 16565.52 16867.31 16372.88 16658.14 16559.37 16761.82 16692.56 16692.48\n",
      " 16515.95 16571.24 16578.77 16437.23 16691.52 16513.43 16739.03 16607.54\n",
      " 16656.87 16511.99 16561.54 16463.   16611.4  16532.55 16637.38 16596.01\n",
      " 16595.1  16792.82 16683.77 16418.8  16634.51 16692.62 16531.36 16578.44\n",
      " 16568.51 16491.3  16545.94 16532.61 16572.17 16586.52 16650.16 16551.32\n",
      " 16453.98 16401.14 16620.78 16554.77 16513.   16592.68 16608.76 16609.24\n",
      " 16419.49 16516.4  16570.36 16350.86 16541.8  16566.98 16536.52 16740.43\n",
      " 16496.58 16494.88 16582.6  16524.39 16864.91 16505.   16519.9  16660.81\n",
      " 16518.64 16584.37 16477.38 16574.54 16605.83 16527.61 16617.06 16504.4\n",
      " 16575.97 16495.17 16639.57 16647.41 16562.74 16672.55 16370.71 16583.68\n",
      " 16438.99 16451.49 16576.38 16646.39 16498.76 16605.69 16493.36 16637.06\n",
      " 16523.36 16636.5  16600.56 16635.62 16501.51 16485.1  16466.49 16657.95\n",
      " 16491.63 16721.97 16443.81 16419.95 16711.59 16590.35 16705.92 16542.77\n",
      " 16544.39 16614.38 16640.77 16508.67 16556.89 16552.15 16673.78 16614.85\n",
      " 16565.31 16676.56 16757.2  16656.54 16525.85 16611.66 16413.4  16530.94\n",
      " 16623.08 16535.71 16509.81 16639.97 16443.74 16802.9  16601.5  16516.92\n",
      " 16527.33 16546.97 16454.84 16620.42 16510.21 16578.14 16538.06 16556.23\n",
      " 16531.67 16642.92 16559.08 16581.71 16749.76 16564.55 16563.47 16488.69\n",
      " 16585.33 16706.54 16533.45 16424.64 16573.88 16461.22 16510.84 16527.21\n",
      " 16590.92 16511.49 16557.12 16458.98 16553.37 16498.38 16473.58 16689.61\n",
      " 16450.63 16569.54 16631.82 16462.36 16595.72 16392.97 16591.   16748.54\n",
      " 16551.37 16509.64 16599.5  16615.54 16638.54 16603.57 16649.3  16463.5\n",
      " 16614.49 16460.02 16578.6  16405.62 16601.08 16621.54 16515.39 16593.78\n",
      " 16357.25 16676.11 16553.02 16356.79 16610.87 16568.51 16561.8  16489.75\n",
      " 16656.22 16584.47 16389.94 16484.16 16585.42 16692.56 16511.81 16462.53\n",
      " 16494.9  16604.06 16625.81 16500.85 16479.4  16448.62 16461.82 16494.61\n",
      " 16468.25 16508.14 16727.05 16665.87 16551.35 16573.86 16538.52 16616.45\n",
      " 16592.5  16562.53 16584.31 16604.49 16400.25 16660.4  16460.07 16552.16\n",
      " 16467.83 16546.16 16587.15 16534.79 16403.89 16594.67 16664.95 16600.91\n",
      " 16512.55 16651.   16400.96 16609.45 16516.56 16612.8  16562.16 16549.94\n",
      " 16488.31 16658.26 16461.12 16459.49 16482.75 16689.53 16601.23 16506.98\n",
      " 16711.32 16603.92 16703.52 16515.91 16535.53 16584.95 16507.59 16554.52\n",
      " 16315.33 16574.24 16530.73 16613.89 16444.1  16590.21 16661.04 16478.68\n",
      " 16595.1  16511.49 16532.13 16667.52 16502.25 16636.66 16638.36 16451.42\n",
      " 16419.56 16556.58 16772.51 16605.29 16577.55 16572.02 16615.29 16565.26\n",
      " 16632.41 16573.96 16591.23 16517.81 16722.02 16537.99 16384.97 16653.05\n",
      " 16584.74 16629.76 16639.33 16656.87 16414.76 16605.62 16677.12 16738.48\n",
      " 16591.12 16658.11 16686.5  16561.59 16469.76 16549.84 16487.16 16685.82\n",
      " 16489.16 16666.1  16435.4  16592.78 16616.39 16715.36 16617.69 16602.18\n",
      " 16584.79 16673.86 16545.85 16426.88 16537.37 16420.35 16619.37 16600.15\n",
      " 16452.12 16585.2  16552.66 16572.24 16579.58 16498.76 16530.43 16673.16\n",
      " 16417.58 16470.63 16578.27 16698.19 16399.82 16577.63 16604.41 16612.7\n",
      " 16560.74 16673.19 16639.1  16573.94 16571.   16707.16 16622.88 16571.01\n",
      " 16572.85 16578.52 16576.52 16491.41 16622.15 16668.29 16571.23 16436.21\n",
      " 16466.22 16584.73 16562.03 16710.99 16527.11 16613.93 16514.67 16526.8\n",
      " 16530.32 16665.25 16420.19 16614.7  16660.69 16607.95 16638.59 16522.76\n",
      " 16464.16 16562.55 16445.66 16536.58 16634.75 16658.23 16618.55 16346.89\n",
      " 16649.42 16627.96 16540.57 16571.39 16583.87 16593.83 16489.3  16630.63\n",
      " 16490.61 16631.23 16596.48 16595.81 16656.3  16543.62 16590.68 16719.3\n",
      " 16629.46 16582.43 16577.36 16606.92 16715.44 16640.67 16670.78 16569.81\n",
      " 16378.01 16520.55 16780.49 16611.52 16666.56 16518.15 16659.04 16749.84\n",
      " 16415.13 16681.37 16587.52 16508.81 16699.24 16677.69 16545.57 16517.23\n",
      " 16582.41 16394.38 16512.57 16574.17 16554.85 16674.34 16444.35 16677.53\n",
      " 16594.21 16502.72 16532.95 16686.19 16580.64 16576.01 16634.37 16548.51\n",
      " 16691.03 16561.37 16633.25 16519.23 16411.89 16402.97 16514.54 16492.62\n",
      " 16674.71 16712.07 16531.93 16510.57 16699.03 16489.56 16515.47 16461.31\n",
      " 16719.16 16542.57 16508.67 16640.13 16637.12 16458.63 16658.92 16576.53\n",
      " 16354.76 16531.44 16559.54 16603.77 16520.92 16613.43 16536.18 16663.68\n",
      " 16562.58 16368.51 16640.34 16495.36 16531.04 16423.29 16395.98 16686.71\n",
      " 16524.39 16797.32 16519.1  16540.11 16603.98 16522.34 16432.47 16492.31\n",
      " 16578.18 16641.25 16604.37 16514.74 16545.14 16664.07 16760.44 16409.51\n",
      " 16422.1  16684.64 16531.64 16597.23 16569.01 16574.37 16478.79 16615.11\n",
      " 16527.3  16440.57 16546.69 16576.23 16468.41 16571.06 16624.16 16633.36\n",
      " 16423.26 16579.76 16565.76 16577.06 16612.75 16679.74 16497.24 16467.95\n",
      " 16561.31 16602.4  16482.7  16489.26 16564.71 16426.49 16727.17 16469.3\n",
      " 16318.1  16558.45 16539.41 16506.43 16481.74 16670.87 16601.83 16599.74\n",
      " 16381.45 16703.61 16418.19 16400.96 16600.   16589.49 16583.31 16453.37\n",
      " 16506.99 16562.   16523.88 16619.5  16660.61 16469.96 16479.95 16747.55\n",
      " 16470.99 16439.06 16601.59 16480.93 16467.19 16494.78 16529.57 16523.6\n",
      " 16716.87 16490.29 16528.02 16483.65 16665.42 16515.39 16643.32 16683.12\n",
      " 16581.5  16495.51 16586.84 16471.79 16677.62 16621.02 16759.57 16481.62\n",
      " 16547.88 16499.34 16450.56 16601.68 16661.58 16547.38 16615.03 16701.32\n",
      " 16419.95 16535.56 16503.46 16606.95 16643.28 16642.08 16584.97 16633.82\n",
      " 16600.34 16397.36 16563.72 16666.93 16483.09 16416.23 16642.27 16424.03\n",
      " 16418.96 16622.41 16653.95 16648.51 16438.28 16534.73 16487.58 16498.89\n",
      " 16648.14 16652.82 16540.67 16603.18 16494.81 16528.28 16470.03 16522.85\n",
      " 16574.94 16638.15 16509.85 16562.31 16673.78 16669.   16544.25 16631.81\n",
      " 16605.48 16552.6  16635.87 16750.72 16589.83 16651.03 16707.25 16611.64\n",
      " 16553.21 16639.46 16492.92 16702.23 16614.04 16533.4  16526.05 16611.31\n",
      " 16579.86 16477.89 16677.84 16549.48 16450.51 16679.32 16421.49 16657.78\n",
      " 16671.81 16550.14 16657.02 16593.84 16628.51 16529.   16800.5  16738.85\n",
      " 16384.61 16557.63 16692.75 16495.81 16537.27 16539.7  16447.98 16477.27\n",
      " 16578.39 16423.   16492.96 16744.04 16451.4  16459.45 16572.19 16644.86\n",
      " 16461.22 16662.11 16666.47 16574.7  16458.16 16603.13 16657.46 16588.77\n",
      " 16668.7  16525.58 16380.53 16594.51 16692.56 16732.51 16397.61 16372.88\n",
      " 16635.38 16584.16 16592.29 16585.98 16606.22 16440.12 16630.87 16762.6\n",
      " 16607.43 16498.95 16526.6  16476.98 16482.61 16539.24 16569.15 16644.76\n",
      " 16639.85 16628.51 16486.5  16445.98 16465.58 16609.74 16471.34 16517.62\n",
      " 16537.76 16634.04 16710.44 16569.66 16668.52 16574.45 16392.39 16452.63\n",
      " 16761.8  16704.54 16690.62 16816.66 16572.41 16611.88 16698.36 16504.09\n",
      " 16574.14 16485.7  16529.74 16680.81 16549.94 16481.25 16934.7  16517.2\n",
      " 16480.   16676.18 16551.45 16626.19 16516.52 16553.03 16573.35 16506.16]\n"
     ]
    },
    {
     "data": {
      "text/plain": [
       "(array([ 1.,  0.,  1.,  0.,  3.,  2.,  6.,  3.,  4., 11., 12.,  7., 17.,\n",
       "        19., 18., 28., 18., 29., 34., 39., 48., 45., 48., 45., 54., 54.,\n",
       "        53., 54., 41., 47., 47., 33., 32., 27., 31., 16., 12., 11., 14.,\n",
       "         9.,  3.,  8.,  7.,  0.,  4.,  2.,  0.,  1.,  1.,  1.]),\n",
       " array([97950.39, 97970.98, 97991.57, 98012.16, 98032.75, 98053.34,\n",
       "        98073.93, 98094.51, 98115.1 , 98135.69, 98156.28, 98176.87,\n",
       "        98197.46, 98218.05, 98238.64, 98259.23, 98279.82, 98300.41,\n",
       "        98321.  , 98341.59, 98362.18, 98382.77, 98403.36, 98423.95,\n",
       "        98444.54, 98465.13, 98485.72, 98506.31, 98526.9 , 98547.49,\n",
       "        98568.08, 98588.67, 98609.26, 98629.85, 98650.44, 98671.02,\n",
       "        98691.61, 98712.2 , 98732.79, 98753.38, 98773.97, 98794.56,\n",
       "        98815.15, 98835.74, 98856.33, 98876.92, 98897.51, 98918.1 ,\n",
       "        98938.69, 98959.28, 98979.87]),\n",
       " <BarContainer object of 50 artists>)"
      ]
     },
     "execution_count": 57,
     "metadata": {},
     "output_type": "execute_result"
    },
    {
     "data": {
      "image/png": "[encoded data removed]",
      "text/plain": [
       "<Figure size 640x480 with 1 Axes>"
      ]
     },
     "metadata": {},
     "output_type": "display_data"
    }
   ],
   "source": [
    "# plot the distribution of the mean of the samples\n",
    "import matplotlib.pyplot as plt\n",
    "sample_means = samples.mean(axis=1)\n",
    "sample_sds = samples.std(axis=1)\n",
    "print(sample_sds)\n",
    "plt.hist(sample_means, bins=50)\n",
    "\n"
   ]
  },
  {
   "cell_type": "code",
   "execution_count": 58,
   "metadata": {},
   "outputs": [
    {
     "name": "stdout",
     "output_type": "stream",
     "text": [
      "[0.00e+000 0.00e+000 0.00e+000 0.00e+000 0.00e+000 8.18e-192 1.71e-038\n",
      " 3.16e-011 2.37e-141 2.01e-187 0.00e+000 0.00e+000 0.00e+000 0.00e+000]\n"
     ]
    }
   ],
   "source": [
    "# for each value in middle, calculate the probability of it being chosen given the normal distribution of the middle 14 islands\n",
    "# we will use the normal distribution of the samples of middle 14 islands to calculate the pdf of each island being chosen\n",
    "from scipy.stats import norm\n",
    "from scipy.stats import beta\n",
    "\n",
    "def get_pdf(x, mean, sd):\n",
    "    return norm.pdf(x, mean, sd)\n",
    "\n",
    "def get_beta_pdf(x, a, b):\n",
    "    return beta.pdf(x, a, b)\n",
    "\n",
    "pdfs = []\n",
    "\n",
    "for i in range(len(middle)):\n",
    "    pdf = get_pdf(middle[i], sample_means.mean(), sample_means.std())\n",
    "    pdfs.append(pdf)\n",
    "pdfs = np.array(pdfs)\n",
    "\n",
    "print(pdfs)"
   ]
  },
  {
   "cell_type": "code",
   "execution_count": 59,
   "metadata": {},
   "outputs": [
    {
     "data": {
      "text/plain": [
       "array([ 65625.  ,  67500.  ,  75000.  ,  78750.  ,  90000.  ,  93750.  ,\n",
       "        96428.57,  97500.  , 102500.  , 103125.  , 112500.  , 115500.  ,\n",
       "       117500.  , 118500.  ])"
      ]
     },
     "execution_count": 59,
     "metadata": {},
     "output_type": "execute_result"
    }
   ],
   "source": [
    "middle"
   ]
  },
  {
   "cell_type": "code",
   "execution_count": null,
   "metadata": {},
   "outputs": [],
   "source": [
    "my_assumption = np.ones((25))\n",
    "my_assumption[ids[:3]] = agreedy3\n",
    "my_assumption[ids[-8:]] = greedy8\n",
    "my_assumption[ids[3:-8]] = ps\n",
    "my_assumption = my_assumption.reshape((5,5))\n",
    "print(my_assumption)"
   ]
  },
  {
   "cell_type": "code",
   "execution_count": 63,
   "metadata": {},
   "outputs": [
    {
     "data": {
      "text/plain": [
       "array([[2, 4, 3, 2, 4],\n",
       "       [3, 5, 5, 5, 4],\n",
       "       [4, 5, 8, 7, 2],\n",
       "       [5, 5, 5, 5, 4],\n",
       "       [2, 3, 4, 2, 3]])"
      ]
     },
     "execution_count": 63,
     "metadata": {},
     "output_type": "execute_result"
    }
   ],
   "source": [
    "treasures[:,:,1]"
   ]
  },
  {
   "cell_type": "code",
   "execution_count": 64,
   "metadata": {},
   "outputs": [
    {
     "data": {
      "text/plain": [
       "array([[ 24,  70,  41,  21,  60],\n",
       "       [ 47,  82,  87,  80,  35],\n",
       "       [ 73,  89, 100,  90,  17],\n",
       "       [ 77,  83,  85,  79,  55],\n",
       "       [ 12,  27,  52,  15,  30]])"
      ]
     },
     "execution_count": 64,
     "metadata": {},
     "output_type": "execute_result"
    }
   ],
   "source": [
    "treasures[:,:,0]"
   ]
  },
  {
   "cell_type": "code",
   "execution_count": 62,
   "metadata": {},
   "outputs": [
    {
     "data": {
      "text/plain": [
       "array([[ 90000.  , 131250.  , 102500.  ,  78750.  , 112500.  ],\n",
       "       [117500.  , 123000.  , 130500.  , 120000.  ,  65625.  ],\n",
       "       [136875.  , 133500.  ,  93750.  ,  96428.57,  63750.  ],\n",
       "       [115500.  , 124500.  , 127500.  , 118500.  , 103125.  ],\n",
       "       [ 45000.  ,  67500.  ,  97500.  ,  56250.  ,  75000.  ]])"
      ]
     },
     "execution_count": 62,
     "metadata": {},
     "output_type": "execute_result"
    }
   ],
   "source": [
    "flat_scores.reshape((5,5))"
   ]
  }
 ],
 "metadata": {
  "kernelspec": {
   "display_name": "ml-imc",
   "language": "python",
   "name": "python3"
  },
  "language_info": {
   "codemirror_mode": {
    "name": "ipython",
    "version": 3
   },
   "file_extension": ".py",
   "mimetype": "text/x-python",
   "name": "python",
   "nbconvert_exporter": "python",
   "pygments_lexer": "ipython3",
   "version": "3.10.14"
  }
 },
 "nbformat": 4,
 "nbformat_minor": 2
}
