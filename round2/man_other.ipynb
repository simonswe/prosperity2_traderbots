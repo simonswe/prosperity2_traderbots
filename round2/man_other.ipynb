{
 "cells": [
  {
   "cell_type": "code",
   "execution_count": 1,
   "metadata": {},
   "outputs": [],
   "source": [
    "import math\n",
    "import numpy as np\n",
    "import matplotlib.pyplot as plt"
   ]
  },
  {
   "cell_type": "code",
   "execution_count": 4,
   "metadata": {},
   "outputs": [],
   "source": [
    "PIZZA, WASABI, SNOWBALL, SHELLS = 'pizza', 'wasabi', 'snowball', 'shells'\n",
    "\n",
    "matrix = {\n",
    "    PIZZA: {PIZZA: 1, WASABI: 0.48, SNOWBALL: 1.52, SHELLS: 0.71},\n",
    "    WASABI: {PIZZA: 2.05, WASABI: 1, SNOWBALL: 3.26, SHELLS: 1.56},\n",
    "    SNOWBALL: {PIZZA: 0.64, WASABI: 0.3, SNOWBALL: 1, SHELLS: 0.46},\n",
    "    SHELLS: {PIZZA: 1.41, WASABI: 0.61, SNOWBALL: 2.08, SHELLS: 1},\n",
    "}"
   ]
  },
  {
   "cell_type": "code",
   "execution_count": 8,
   "metadata": {},
   "outputs": [],
   "source": [
    "shell_matrix = matrix.copy()\n",
    "for key, values in shell_matrix.items():\n",
    "    shell_matrix[key] = {k: matrix[k][SHELLS] * v for k, v in values.items()}"
   ]
  },
  {
   "cell_type": "code",
   "execution_count": 7,
   "metadata": {},
   "outputs": [
    {
     "data": {
      "text/plain": [
       "{'pizza': {'pizza': 1, 'wasabi': 0.48, 'snowball': 1.52, 'shells': 0.71},\n",
       " 'wasabi': {'pizza': 2.05, 'wasabi': 1, 'snowball': 3.26, 'shells': 1.56},\n",
       " 'snowball': {'pizza': 0.64, 'wasabi': 0.3, 'snowball': 1, 'shells': 0.46},\n",
       " 'shells': {'pizza': 1.41, 'wasabi': 0.61, 'snowball': 2.08, 'shells': 1}}"
      ]
     },
     "execution_count": 7,
     "metadata": {},
     "output_type": "execute_result"
    }
   ],
   "source": [
    "matrix"
   ]
  },
  {
   "cell_type": "code",
   "execution_count": 31,
   "metadata": {},
   "outputs": [
    {
     "data": {
      "text/plain": [
       "{'pizza': {'pizza': 0, 'wasabi': 0.7488, 'snowball': 0.6992, 'shells': 0.71},\n",
       " 'wasabi': {'pizza': 1.4554999999999998,\n",
       "  'wasabi': 0,\n",
       "  'snowball': 1.4996,\n",
       "  'shells': 1.56},\n",
       " 'snowball': {'pizza': 0.45439999999999997,\n",
       "  'wasabi': 0.46799999999999997,\n",
       "  'snowball': 0,\n",
       "  'shells': 0.46},\n",
       " 'shells': {'pizza': 1.0010999999999999,\n",
       "  'wasabi': 0.9516,\n",
       "  'snowball': 0.9568000000000001,\n",
       "  'shells': 0}}"
      ]
     },
     "execution_count": 31,
     "metadata": {},
     "output_type": "execute_result"
    }
   ],
   "source": [
    "\n",
    "for key, values in shell_matrix.items():\n",
    "    for k, v in values.items():\n",
    "        if k == key:\n",
    "            values[k] = 0\n",
    "shell_matrix"
   ]
  },
  {
   "cell_type": "code",
   "execution_count": 42,
   "metadata": {},
   "outputs": [],
   "source": [
    "path = []\n",
    "path_start = SHELLS\n",
    "path_end = SHELLS\n",
    "path.append(path_start)\n",
    "\n",
    "# find length 6 path that maximizes value \n",
    "for i in range(4):\n",
    "    max_value = 0\n",
    "    for key, value in shell_matrix[path[-1]].items():\n",
    "        if value > max_value:\n",
    "            max_value = value\n",
    "            next_item = key\n",
    "    path.append(next_item)\n",
    "path.append(path_end)\n"
   ]
  },
  {
   "cell_type": "code",
   "execution_count": 43,
   "metadata": {},
   "outputs": [
    {
     "name": "stdout",
     "output_type": "stream",
     "text": [
      "path: ['shells', 'pizza', 'wasabi', 'shells', 'pizza', 'shells'], value: 23413985.900697593\n"
     ]
    }
   ],
   "source": [
    "value = 20000000\n",
    "for i in range(len(path) - 2):\n",
    "    value *= shell_matrix[path[i]][path[i + 1]]\n",
    "print(f\"path: {path}, value: {value}\")"
   ]
  },
  {
   "cell_type": "code",
   "execution_count": 45,
   "metadata": {},
   "outputs": [],
   "source": [
    "# create all possible paths of length 6 starting and ending at SHELLS\n",
    "paths = []\n",
    "def find_paths(path, length):\n",
    "    if length == 0:\n",
    "        paths.append(path)\n",
    "        return\n",
    "    for key in shell_matrix[path[-1]]:\n",
    "        find_paths(path + [key], length - 1)\n",
    "find_paths([SHELLS], 4)\n",
    "for p in paths:\n",
    "    p.append(SHELLS)"
   ]
  },
  {
   "cell_type": "code",
   "execution_count": 48,
   "metadata": {},
   "outputs": [
    {
     "data": {
      "text/plain": [
       "{'pizza': {'pizza': 0, 'wasabi': 0.7488, 'snowball': 0.6992, 'shells': 0.71},\n",
       " 'wasabi': {'pizza': 1.4554999999999998,\n",
       "  'wasabi': 0,\n",
       "  'snowball': 1.4996,\n",
       "  'shells': 1.56},\n",
       " 'snowball': {'pizza': 0.45439999999999997,\n",
       "  'wasabi': 0.46799999999999997,\n",
       "  'snowball': 0,\n",
       "  'shells': 0.46},\n",
       " 'shells': {'pizza': 1.0010999999999999,\n",
       "  'wasabi': 0.9516,\n",
       "  'snowball': 0.9568000000000001,\n",
       "  'shells': 0}}"
      ]
     },
     "execution_count": 48,
     "metadata": {},
     "output_type": "execute_result"
    }
   ],
   "source": [
    "shell_matrix"
   ]
  },
  {
   "cell_type": "code",
   "execution_count": 58,
   "metadata": {},
   "outputs": [],
   "source": [
    "# find path with maximum value\n",
    "starting_shells = 2_000_000\n",
    "max_value = 0\n",
    "max_exchange_rates = []\n",
    "for path in paths:\n",
    "    value = starting_shells\n",
    "    exchange_rates = []\n",
    "    for i in range(len(path) - 1):\n",
    "        exchange_rate = matrix[path[i]][path[i + 1]]\n",
    "        exchange_rates.append(exchange_rate)\n",
    "        value *= matrix[path[i]][path[i + 1]]\n",
    "    if value > max_value:\n",
    "        max_value = value\n",
    "        max_path = path\n",
    "        max_exchange_rates = exchange_rates"
   ]
  },
  {
   "cell_type": "code",
   "execution_count": 59,
   "metadata": {},
   "outputs": [
    {
     "data": {
      "text/plain": [
       "(2113938.7776,\n",
       " ['shells', 'pizza', 'wasabi', 'shells', 'pizza', 'shells'],\n",
       " [1.41, 0.48, 1.56, 1.41, 0.71])"
      ]
     },
     "execution_count": 59,
     "metadata": {},
     "output_type": "execute_result"
    }
   ],
   "source": [
    "max_value, max_path, max_exchange_rates"
   ]
  },
  {
   "cell_type": "code",
   "execution_count": null,
   "metadata": {},
   "outputs": [],
   "source": [
    "jack_path = [SHELLS, PIZZA, WASABI, SHELLS, PIZZA, SHELLS] # 2.1139387776e+06\n",
    "\n"
   ]
  },
  {
   "cell_type": "code",
   "execution_count": 43,
   "metadata": {},
   "outputs": [
    {
     "name": "stdout",
     "output_type": "stream",
     "text": [
      "{'pizza': 2820000.0, 'wasabi': 1220000.0, 'snowball': 4160000.0, 'shells': 2000000}\n",
      "{'pizza': 2820000.0, 'wasabi': 1353600.0, 'snowball': 4286400.0, 'shells': 2002200.0}\n",
      "{'pizza': 2823102.0, 'wasabi': 1353600.0, 'snowball': 4412736.0, 'shells': 2111616.0}\n",
      "{'pizza': 2977378.56, 'wasabi': 1355088.96, 'snowball': 4412736.0, 'shells': 2111616.0}\n",
      "{'pizza': 2977378.56, 'wasabi': 1429141.7088, 'snowball': 4525615.4112, 'shells': 2113938.7776}\n"
     ]
    },
    {
     "data": {
      "text/plain": [
       "'shells - pizza - wasabi - shells - pizza - shells'"
      ]
     },
     "execution_count": 43,
     "metadata": {},
     "output_type": "execute_result"
    }
   ],
   "source": [
    "PIZZA, WASABI, SNOWBALL, SHELLS = 'pizza', 'wasabi', 'snowball', 'shells'\n",
    "\n",
    "matrix = {\n",
    "    PIZZA: {PIZZA: 1, WASABI: 0.48, SNOWBALL: 1.52, SHELLS: 0.71},\n",
    "    WASABI: {PIZZA: 2.05, WASABI: 1, SNOWBALL: 3.26, SHELLS: 1.56},\n",
    "    SNOWBALL: {PIZZA: 0.64, WASABI: 0.3, SNOWBALL: 1, SHELLS: 0.46},\n",
    "    SHELLS: {PIZZA: 1.41, WASABI: 0.61, SNOWBALL: 2.08, SHELLS: 1},\n",
    "}\n",
    "\n",
    "start = 0\n",
    "\n",
    "empty_credit = {\n",
    "    PIZZA: start, \n",
    "    WASABI: start,\n",
    "    SNOWBALL: start,\n",
    "    SHELLS: start,\n",
    "}\n",
    "\n",
    "empty_path = {\n",
    "    PIZZA: SHELLS, \n",
    "    WASABI: SHELLS,\n",
    "    SNOWBALL: SHELLS,\n",
    "    SHELLS: SHELLS,\n",
    "}\n",
    "\n",
    "available_capital = 2_000_000\n",
    "credit = empty_credit.copy()\n",
    "path = empty_path.copy()\n",
    "credit[SHELLS] = available_capital\n",
    "\n",
    "for i in range(5):\n",
    "    new_credit = empty_credit.copy()\n",
    "    new_path = path.copy()\n",
    "    for from_currency, value in credit.items():\n",
    "        for to_currency in matrix.keys():\n",
    "            if value * matrix[from_currency][to_currency] > new_credit[to_currency]:\n",
    "                new_credit[to_currency] = value * matrix[from_currency][to_currency]\n",
    "                new_path[to_currency] = f'{path[from_currency]} - {to_currency}'\n",
    "        \n",
    "    credit = new_credit\n",
    "    path = new_path\n",
    "\n",
    "    print(credit)\n",
    "\n",
    "path[SHELLS]"
   ]
  },
  {
   "cell_type": "code",
   "execution_count": null,
   "metadata": {},
   "outputs": [],
   "source": []
  },
  {
   "cell_type": "code",
   "execution_count": null,
   "metadata": {},
   "outputs": [],
   "source": []
  },
  {
   "cell_type": "code",
   "execution_count": null,
   "metadata": {},
   "outputs": [],
   "source": []
  },
  {
   "cell_type": "code",
   "execution_count": null,
   "metadata": {},
   "outputs": [],
   "source": []
  },
  {
   "cell_type": "code",
   "execution_count": null,
   "metadata": {},
   "outputs": [],
   "source": []
  },
  {
   "cell_type": "code",
   "execution_count": null,
   "metadata": {},
   "outputs": [],
   "source": []
  },
  {
   "cell_type": "code",
   "execution_count": 24,
   "metadata": {},
   "outputs": [
    {
     "data": {
      "text/plain": [
       "' - pizza - pizza - pizza - wasabi - shells - pizza - pizza - wasabi - shells - pizza - pizza - shells'"
      ]
     },
     "execution_count": 24,
     "metadata": {},
     "output_type": "execute_result"
    }
   ],
   "source": [
    "path[SHELLS]"
   ]
  },
  {
   "cell_type": "code",
   "execution_count": null,
   "metadata": {},
   "outputs": [],
   "source": []
  },
  {
   "cell_type": "code",
   "execution_count": null,
   "metadata": {},
   "outputs": [],
   "source": []
  },
  {
   "cell_type": "code",
   "execution_count": null,
   "metadata": {},
   "outputs": [],
   "source": []
  },
  {
   "cell_type": "code",
   "execution_count": null,
   "metadata": {},
   "outputs": [],
   "source": []
  },
  {
   "cell_type": "code",
   "execution_count": null,
   "metadata": {},
   "outputs": [],
   "source": []
  },
  {
   "cell_type": "code",
   "execution_count": null,
   "metadata": {},
   "outputs": [],
   "source": []
  },
  {
   "cell_type": "code",
   "execution_count": null,
   "metadata": {},
   "outputs": [],
   "source": []
  },
  {
   "cell_type": "code",
   "execution_count": null,
   "metadata": {},
   "outputs": [],
   "source": []
  }
 ],
 "metadata": {
  "kernelspec": {
   "display_name": "Python 3",
   "language": "python",
   "name": "python3"
  },
  "language_info": {
   "codemirror_mode": {
    "name": "ipython",
    "version": 3
   },
   "file_extension": ".py",
   "mimetype": "text/x-python",
   "name": "python",
   "nbconvert_exporter": "python",
   "pygments_lexer": "ipython3",
   "version": "3.10.14"
  }
 },
 "nbformat": 4,
 "nbformat_minor": 2
}
