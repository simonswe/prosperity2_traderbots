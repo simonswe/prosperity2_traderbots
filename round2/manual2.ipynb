{
 "cells": [
  {
   "cell_type": "code",
   "execution_count": 1,
   "metadata": {},
   "outputs": [],
   "source": [
    "import math\n",
    "import numpy as np\n",
    "import matplotlib.pyplot as plt"
   ]
  },
  {
   "cell_type": "code",
   "execution_count": 43,
   "metadata": {},
   "outputs": [
    {
     "name": "stdout",
     "output_type": "stream",
     "text": [
      "{'pizza': 2820000.0, 'wasabi': 1220000.0, 'snowball': 4160000.0, 'shells': 2000000}\n",
      "{'pizza': 2820000.0, 'wasabi': 1353600.0, 'snowball': 4286400.0, 'shells': 2002200.0}\n",
      "{'pizza': 2823102.0, 'wasabi': 1353600.0, 'snowball': 4412736.0, 'shells': 2111616.0}\n",
      "{'pizza': 2977378.56, 'wasabi': 1355088.96, 'snowball': 4412736.0, 'shells': 2111616.0}\n",
      "{'pizza': 2977378.56, 'wasabi': 1429141.7088, 'snowball': 4525615.4112, 'shells': 2113938.7776}\n"
     ]
    },
    {
     "data": {
      "text/plain": [
       "'shells - pizza - wasabi - shells - pizza - shells'"
      ]
     },
     "execution_count": 43,
     "metadata": {},
     "output_type": "execute_result"
    }
   ],
   "source": [
    "PIZZA, WASABI, SNOWBALL, SHELLS = 'pizza', 'wasabi', 'snowball', 'shells'\n",
    "\n",
    "matrix = {\n",
    "    PIZZA: {PIZZA: 1, WASABI: 0.48, SNOWBALL: 1.52, SHELLS: 0.71},\n",
    "    WASABI: {PIZZA: 2.05, WASABI: 1, SNOWBALL: 3.26, SHELLS: 1.56},\n",
    "    SNOWBALL: {PIZZA: 0.64, WASABI: 0.3, SNOWBALL: 1, SHELLS: 0.46},\n",
    "    SHELLS: {PIZZA: 1.41, WASABI: 0.61, SNOWBALL: 2.08, SHELLS: 1},\n",
    "}\n",
    "\n",
    "start = 0\n",
    "\n",
    "empty_credit = {\n",
    "    PIZZA: start, \n",
    "    WASABI: start,\n",
    "    SNOWBALL: start,\n",
    "    SHELLS: start,\n",
    "}\n",
    "\n",
    "empty_path = {\n",
    "    PIZZA: SHELLS, \n",
    "    WASABI: SHELLS,\n",
    "    SNOWBALL: SHELLS,\n",
    "    SHELLS: SHELLS,\n",
    "}\n",
    "\n",
    "available_capital = 2_000_000\n",
    "credit = empty_credit.copy()\n",
    "path = empty_path.copy()\n",
    "credit[SHELLS] = available_capital\n",
    "\n",
    "for i in range(5):\n",
    "    new_credit = empty_credit.copy()\n",
    "    new_path = path.copy()\n",
    "    for from_currency, value in credit.items():\n",
    "        for to_currency in matrix.keys():\n",
    "            if value * matrix[from_currency][to_currency] > new_credit[to_currency]:\n",
    "                new_credit[to_currency] = value * matrix[from_currency][to_currency]\n",
    "                new_path[to_currency] = f'{path[from_currency]} - {to_currency}'\n",
    "        \n",
    "    credit = new_credit\n",
    "    path = new_path\n",
    "\n",
    "    print(credit)\n",
    "\n",
    "path[SHELLS]"
   ]
  },
  {
   "cell_type": "code",
   "execution_count": null,
   "metadata": {},
   "outputs": [],
   "source": []
  },
  {
   "cell_type": "code",
   "execution_count": null,
   "metadata": {},
   "outputs": [],
   "source": []
  },
  {
   "cell_type": "code",
   "execution_count": null,
   "metadata": {},
   "outputs": [],
   "source": []
  },
  {
   "cell_type": "code",
   "execution_count": null,
   "metadata": {},
   "outputs": [],
   "source": []
  },
  {
   "cell_type": "code",
   "execution_count": null,
   "metadata": {},
   "outputs": [],
   "source": []
  },
  {
   "cell_type": "code",
   "execution_count": null,
   "metadata": {},
   "outputs": [],
   "source": []
  },
  {
   "cell_type": "code",
   "execution_count": 24,
   "metadata": {},
   "outputs": [
    {
     "data": {
      "text/plain": [
       "' - pizza - pizza - pizza - wasabi - shells - pizza - pizza - wasabi - shells - pizza - pizza - shells'"
      ]
     },
     "execution_count": 24,
     "metadata": {},
     "output_type": "execute_result"
    }
   ],
   "source": [
    "path[SHELLS]"
   ]
  },
  {
   "cell_type": "code",
   "execution_count": null,
   "metadata": {},
   "outputs": [],
   "source": []
  },
  {
   "cell_type": "code",
   "execution_count": null,
   "metadata": {},
   "outputs": [],
   "source": []
  },
  {
   "cell_type": "code",
   "execution_count": null,
   "metadata": {},
   "outputs": [],
   "source": []
  },
  {
   "cell_type": "code",
   "execution_count": null,
   "metadata": {},
   "outputs": [],
   "source": []
  },
  {
   "cell_type": "code",
   "execution_count": null,
   "metadata": {},
   "outputs": [],
   "source": []
  },
  {
   "cell_type": "code",
   "execution_count": null,
   "metadata": {},
   "outputs": [],
   "source": []
  },
  {
   "cell_type": "code",
   "execution_count": null,
   "metadata": {},
   "outputs": [],
   "source": []
  },
  {
   "cell_type": "code",
   "execution_count": null,
   "metadata": {},
   "outputs": [],
   "source": []
  }
 ],
 "metadata": {
  "kernelspec": {
   "display_name": "Python 3",
   "language": "python",
   "name": "python3"
  },
  "language_info": {
   "codemirror_mode": {
    "name": "ipython",
    "version": 3
   },
   "file_extension": ".py",
   "mimetype": "text/x-python",
   "name": "python",
   "nbconvert_exporter": "python",
   "pygments_lexer": "ipython3",
   "version": "3.11.8"
  }
 },
 "nbformat": 4,
 "nbformat_minor": 2
}
