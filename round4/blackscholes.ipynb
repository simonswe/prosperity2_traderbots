{
 "cells": [
  {
   "cell_type": "code",
   "execution_count": 74,
   "metadata": {},
   "outputs": [],
   "source": [
    "import math\n",
    "import numpy as np\n",
    "import QuantLib as ql\n",
    "import scipy as sp"
   ]
  },
  {
   "cell_type": "code",
   "execution_count": 75,
   "metadata": {},
   "outputs": [
    {
     "name": "stdout",
     "output_type": "stream",
     "text": [
      "701.6532071984752\n",
      "-701.6496441757142\n",
      "0.0\n"
     ]
    }
   ],
   "source": [
    "mean = 9999.900983333333\n",
    "std = 88.75266514702373\n",
    "t = 250\n",
    "S = 10000\n",
    "K = 10000\n",
    "r = 0.01\n",
    "\n",
    "d1 = (math.log(S/K) + (r + (std**2)/2)*t) / (std * math.sqrt(t))\n",
    "d2 = d1 - std * math.sqrt(t)\n",
    "\n",
    "def N(x):\n",
    "    return sp.stats.norm.cdf(x, mean, std)\n",
    "    return 0.5 * (1 + math.erf((x-mean) / (std*math.sqrt(2))))\n",
    "\n",
    "print(d1)\n",
    "print(d2)\n",
    "# print(N(d1) * S)\n",
    "# print(N(d2) * K * math.e**(-r*t))\n",
    "\n",
    "# N = norm.cdf\n",
    "def BS_CALL(S, K, T, r, sigma):\n",
    "    d1 = (np.log(S/K) + (r + sigma**2/2)*T) / (sigma*np.sqrt(T))\n",
    "    d2 = d1 - sigma * np.sqrt(T)\n",
    "    return S * N(d1) - K * np.exp(-r*T)* N(d2)\n",
    "\n",
    "# C = N(d1) * S - N(d2) * K * math.e**(-r*t)\n",
    "# C\n",
    "\n",
    "print(BS_CALL(S, K, t, r, std))"
   ]
  },
  {
   "cell_type": "code",
   "execution_count": null,
   "metadata": {},
   "outputs": [],
   "source": []
  },
  {
   "cell_type": "code",
   "execution_count": 76,
   "metadata": {},
   "outputs": [],
   "source": [
    "def option_price_european(\n",
    "S0, K, days_to_maturity, r, sigma, call=True, engine=\"BS\", steps=200, paths=10000):\n",
    "    \"\"\"\n",
    "    This function returns the price of a European Call with 3 different price␣\n",
    "    ↪engines: BS, BT and MC.\n",
    "    \"\"\"\n",
    "    # Setting up the dates\n",
    "    today = ql.Date().todaysDate()\n",
    "    maturity = today + days_to_maturity\n",
    "    # Choosing the type of the option\n",
    "    if call:\n",
    "        option_type = ql.Option.Call\n",
    "    else:\n",
    "        option_type = ql.Option.Put\n",
    "    # Creating the payoff\n",
    "    payoff = ql.PlainVanillaPayoff(option_type, K)\n",
    "    europeanExercise = ql.EuropeanExercise(maturity)\n",
    "    europeanOption = ql.VanillaOption(payoff, europeanExercise)\n",
    "    # Setting up the option's characteristics\n",
    "    spot = ql.SimpleQuote(S0)\n",
    "    riskFreeTS = ql.YieldTermStructureHandle(\n",
    "    ql.FlatForward(today, r, ql.Actual365Fixed())\n",
    "    )\n",
    "    volTS = ql.BlackVolTermStructureHandle(\n",
    "    ql.BlackConstantVol(today, ql.NullCalendar(), sigma, ql.Actual365Fixed())\n",
    "    )\n",
    "    # We will use the analytical way of pricing the options\n",
    "    process = ql.BlackScholesProcess(ql.QuoteHandle(spot), riskFreeTS, volTS)\n",
    "    if engine == \"BS\":\n",
    "        engine = ql.AnalyticEuropeanEngine(process)\n",
    "    elif engine == \"BT\":\n",
    "        engine = ql.BinomialVanillaEngine(process, \"crr\", steps)\n",
    "    elif engine == \"MC\":\n",
    "        engine = ql.MCEuropeanEngine(\n",
    "        process, \"PseudoRandom\", timeSteps=steps, requiredSamples=paths\n",
    "    )\n",
    "    europeanOption.setPricingEngine(engine)\n",
    "    return europeanOption.NPV()"
   ]
  },
  {
   "cell_type": "code",
   "execution_count": 80,
   "metadata": {},
   "outputs": [
    {
     "data": {
      "text/plain": [
       "830.6094887461612"
      ]
     },
     "execution_count": 80,
     "metadata": {},
     "output_type": "execute_result"
    }
   ],
   "source": [
    "option_price_european(S, K, t, 0.05, 0.2, call=True, engine=\"BS\", steps=200, paths=10000)"
   ]
  }
 ],
 "metadata": {
  "kernelspec": {
   "display_name": "Python 3",
   "language": "python",
   "name": "python3"
  },
  "language_info": {
   "codemirror_mode": {
    "name": "ipython",
    "version": 3
   },
   "file_extension": ".py",
   "mimetype": "text/x-python",
   "name": "python",
   "nbconvert_exporter": "python",
   "pygments_lexer": "ipython3",
   "version": "3.11.8"
  }
 },
 "nbformat": 4,
 "nbformat_minor": 2
}
