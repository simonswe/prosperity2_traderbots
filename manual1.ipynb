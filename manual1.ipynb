{
 "cells": [
  {
   "cell_type": "code",
   "execution_count": null,
   "metadata": {},
   "outputs": [],
   "source": [
    "import math"
   ]
  },
  {
   "cell_type": "code",
   "execution_count": 8,
   "metadata": {},
   "outputs": [
    {
     "name": "stdout",
     "output_type": "stream",
     "text": [
      "20.415199999999995 952 978\n"
     ]
    }
   ],
   "source": [
    "def f(l, h):\n",
    "    a = (1000-l) * (l-900) * (0.02*l-18) / 200\n",
    "    b = (1000-h) * ((h-900)*(0.02*h-18) - (l-900)*(0.02*l-18)) / 200\n",
    "\n",
    "\n",
    "    return a + b\n",
    "\n",
    "ev = 0\n",
    "ml, mh = 0, 0\n",
    "\n",
    "for l in range(900, 1001):\n",
    "    for h in range(900, 1001):\n",
    "        cur = f(l, h)\n",
    "        if cur > ev:\n",
    "            ev = cur\n",
    "            ml = l\n",
    "            mh = h\n",
    "\n",
    "print(ev, ml, mh)"
   ]
  },
  {
   "cell_type": "code",
   "execution_count": null,
   "metadata": {},
   "outputs": [],
   "source": []
  }
 ],
 "metadata": {
  "kernelspec": {
   "display_name": "Python 3",
   "language": "python",
   "name": "python3"
  },
  "language_info": {
   "codemirror_mode": {
    "name": "ipython",
    "version": 3
   },
   "file_extension": ".py",
   "mimetype": "text/x-python",
   "name": "python",
   "nbconvert_exporter": "python",
   "pygments_lexer": "ipython3",
   "version": "3.11.8"
  }
 },
 "nbformat": 4,
 "nbformat_minor": 2
}
