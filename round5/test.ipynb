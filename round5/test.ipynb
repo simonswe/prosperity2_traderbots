{
 "cells": [
  {
   "cell_type": "code",
   "execution_count": null,
   "metadata": {},
   "outputs": [],
   "source": [
    "follow\n",
    "\n",
    "\n",
    "\n",
    "def follow_bot(self, product, buyer, market_trades, bid_price, ask_price, timestamp, order_depth, follow=True):\n",
    "    if product in market_trades:\n",
    "        for trade in market_trades[product]:\n",
    "            if trade.buyer == buyer and trade.timestamp == timestamp-100:\n",
    "                if follow: # buy PRODUCT because BOT did\n",
    "                    return self.calculate_orders(product, order_depth, ask_price, self.INF)\n",
    "                else:\n",
    "                    return self.calculate_orders(product, order_depth, -self.INF, bid_price)\n",
    "\n",
    "            elif trade.seller == buyer and trade.timestamp == timestamp-100:\n",
    "                if follow: # sell PRODUCT because BOT did\n",
    "                    return self.calculate_orders(product, order_depth, -self.INF, bid_price)\n",
    "                else:\n",
    "                    return self.calculate_orders(product, order_depth, ask_price, self.INF)"
   ]
  }
 ],
 "metadata": {
  "language_info": {
   "name": "python"
  }
 },
 "nbformat": 4,
 "nbformat_minor": 2
}
