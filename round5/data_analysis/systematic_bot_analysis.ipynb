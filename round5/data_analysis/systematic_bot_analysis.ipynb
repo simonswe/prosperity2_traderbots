{
 "cells": [
  {
   "cell_type": "code",
   "execution_count": 1,
   "metadata": {},
   "outputs": [],
   "source": [
    "import pandas as pd\n",
    "import numpy as np\n",
    "import matplotlib.pyplot as plt"
   ]
  },
  {
   "cell_type": "code",
   "execution_count": 2,
   "metadata": {},
   "outputs": [],
   "source": [
    "paths = [\"trades_round_1_day_-2_wn.csv\", \"trades_round_1_day_-1_wn.csv\", \"trades_round_1_day_0_wn.csv\", \"trades_round_3_day_0_wn.csv\", \"trades_round_3_day_1_wn.csv\", \"trades_round_4_day_1_wn.csv\", \"trades_round_3_day_2_wn.csv\", \"trades_round_4_day_2_wn.csv\", \"trades_round_4_day_3_wn.csv\"]\n",
    "days = [0,1,2,2,3,3,4,4,5]\n",
    "\n",
    "df = pd.DataFrame()\n",
    "for i, path in enumerate(paths):\n",
    "    new_df = pd.read_csv(path, delimiter=\";\")\n",
    "    # add 1000000 to timestamp column\n",
    "    new_df[\"timestamp\"] = new_df[\"timestamp\"] + 1000000 * days[i]\n",
    "    df = pd.concat([df, new_df])\n",
    "\n",
    "bidask_paths = ['prices_round_1_day_-2.csv', 'prices_round_2_day_-1.csv', 'prices_round_3_day_0.csv', 'prices_round_4_day_1.csv', 'prices_round_4_day_2.csv', 'prices_round_4_day_3.csv']\n",
    "\n",
    "bidask_df = pd.DataFrame()\n",
    "for i, path in enumerate(bidask_paths):\n",
    "    new_df = pd.read_csv(path, delimiter=\";\")\n",
    "    # add 1000000 to timestamp column\n",
    "    new_df[\"timestamp\"] = new_df[\"timestamp\"] + 1000000 * i\n",
    "    bidask_df = pd.concat([bidask_df, new_df])"
   ]
  },
  {
   "cell_type": "code",
   "execution_count": 6,
   "metadata": {},
   "outputs": [],
   "source": [
    "gift_trade = df[df[\"symbol\"]==\"GIFT_BASKET\"]\n",
    "roses_trade = df[df[\"symbol\"]==\"ROSES\"]\n",
    "choc_trade = df[df[\"symbol\"]==\"CHOCOLATE\"]\n",
    "strawberries_trade = df[df[\"symbol\"]==\"STRAWBERRIES\"]"
   ]
  }
 ],
 "metadata": {
  "kernelspec": {
   "display_name": "ml-imc",
   "language": "python",
   "name": "python3"
  },
  "language_info": {
   "codemirror_mode": {
    "name": "ipython",
    "version": 3
   },
   "file_extension": ".py",
   "mimetype": "text/x-python",
   "name": "python",
   "nbconvert_exporter": "python",
   "pygments_lexer": "ipython3",
   "version": "3.10.14"
  }
 },
 "nbformat": 4,
 "nbformat_minor": 2
}
